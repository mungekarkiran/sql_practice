{
 "cells": [
  {
   "cell_type": "code",
   "execution_count": 2,
   "id": "e211486c",
   "metadata": {},
   "outputs": [],
   "source": [
    "# https://pypi.org/project/mysql-connector-python/\n",
    "# !pip install mysql-connector-python"
   ]
  },
  {
   "cell_type": "code",
   "execution_count": 8,
   "id": "3ea78b18",
   "metadata": {},
   "outputs": [],
   "source": [
    "import mysql.connector as connection"
   ]
  },
  {
   "cell_type": "code",
   "execution_count": 14,
   "id": "172c40b8",
   "metadata": {},
   "outputs": [
    {
     "name": "stdout",
     "output_type": "stream",
     "text": [
      "Connected to : <mysql.connector.connection_cext.CMySQLConnection object at 0x0000027AB4AAC730>\n",
      "[('information_schema',), ('mysql',), ('performance_schema',), ('sakila',), ('sys',), ('world',)]\n"
     ]
    }
   ],
   "source": [
    "try:\n",
    "    mydb = connection.connect(host='localhost',\n",
    "                             user='root',\n",
    "                             password='root')\n",
    "    print(f\"Connected to : {mydb}\")\n",
    "    \n",
    "    cursor = mydb.cursor()\n",
    "    query = \"show databases;\"\n",
    "    cursor.execute(query)\n",
    "    print(f\"{cursor.fetchall()}\")\n",
    "except Exception as e:\n",
    "    mydb.close()\n",
    "    print(f\"Exception : {e}\")\n",
    "    "
   ]
  },
  {
   "cell_type": "code",
   "execution_count": 21,
   "id": "8bfd8ce4",
   "metadata": {},
   "outputs": [
    {
     "name": "stdout",
     "output_type": "stream",
     "text": [
      "CREATE DATABASE : []\n",
      "SHOW DATABASE :\n",
      "information_schema\n",
      "mysql\n",
      "performance_schema\n",
      "project_practice\n",
      "sakila\n",
      "sys\n",
      "world\n"
     ]
    }
   ],
   "source": [
    "# CREATE DATABASE\n",
    "query = 'CREATE database project_practice;'\n",
    "cursor.execute(query)\n",
    "print(f\"CREATE DATABASE : {cursor.fetchall()}\")\n",
    "\n",
    "query = \"show databases;\"\n",
    "cursor.execute(query)\n",
    "print(f\"SHOW DATABASE :\")\n",
    "for db_name in cursor.fetchall():\n",
    "    print(f\"{db_name[0]}\")\n",
    "\n",
    "# TO DROP/DELETE DATABASE\n",
    "# query = 'drop database project_practice;'"
   ]
  },
  {
   "cell_type": "code",
   "execution_count": 27,
   "id": "353c293e",
   "metadata": {},
   "outputs": [
    {
     "name": "stdout",
     "output_type": "stream",
     "text": [
      "Connected to : <mysql.connector.connection_cext.CMySQLConnection object at 0x0000027AB4A67DF0> , CMySQLCursor: (Nothing executed yet)\n",
      "SHOW TABLE : []\n"
     ]
    }
   ],
   "source": [
    "# CREATE TABLE\n",
    "mydb = connection.connect(host='localhost',\n",
    "                          user='root',\n",
    "                          password='root', \n",
    "                          database='project_practice')\n",
    "cursor = mydb.cursor()\n",
    "print(f\"Connected to : {mydb} , {cursor}\")\n",
    "\n",
    "query = \"\"\"create table if not exists student_details (stud_id int(10) auto_increment primary key, first_name varchar(20),\n",
    "last_name varchar(20), registration_date date, class varchar(20), section varchar(20));\"\"\"\n",
    "# query = \"\"\"use project_practice;\n",
    "# create table student_details (stud_id int(10) auto_increment primary key, first_name varchar(20),\n",
    "# last_name varchar(20), registration_date date, class varchar(20), section varchar(20));\"\"\"\n",
    "cursor.execute(query)\n",
    "print(f\"SHOW TABLE : {cursor.fetchall()}\")"
   ]
  },
  {
   "cell_type": "code",
   "execution_count": 34,
   "id": "ffd673db",
   "metadata": {},
   "outputs": [
    {
     "name": "stdout",
     "output_type": "stream",
     "text": [
      "1 record inserted.\n"
     ]
    }
   ],
   "source": [
    "# INSERT DATA\n",
    "query = \"INSERT INTO student_details (first_name, last_name, registration_date, class, section) VALUES (%s, %s, %s, %s, %s);\"\n",
    "values = (\"John\", \"Smith\", \"2000-06-16\", \"1\", \"A\")\n",
    "\n",
    "cursor.execute(query, values)\n",
    "\n",
    "mydb.commit()\n",
    "\n",
    "print(cursor.rowcount, \"record inserted.\")"
   ]
  },
  {
   "cell_type": "code",
   "execution_count": 35,
   "id": "cb69d838",
   "metadata": {},
   "outputs": [
    {
     "name": "stdout",
     "output_type": "stream",
     "text": [
      "5 record inserted.\n"
     ]
    }
   ],
   "source": [
    "query = \"INSERT INTO student_details (first_name, last_name, registration_date, class, section) VALUES (%s, %s, %s, %s, %s);\"\n",
    "values = [\n",
    "    (\"Sam\", \"Smith\", \"2002-06-11\", \"2\", \"B\"),\n",
    "    (\"Lily\", \"Prince\", \"2003-07-17\", \"5\", \"C\"),\n",
    "    (\"Anna\", \"Moly\", \"2001-05-26\", \"2\", \"A\"),\n",
    "    (\"Will\", \"Turnor\", \"2003-06-11\", \"3\", \"B\"),\n",
    "    (\"Jacky\", \"Chan\", \"2002-06-20\", \"4\", \"A\")\n",
    "]\n",
    "# To insert multiple rows into a table, use the executemany() method.\n",
    "cursor.executemany(query, values)\n",
    "\n",
    "mydb.commit()\n",
    "\n",
    "print(cursor.rowcount, \"record inserted.\")"
   ]
  },
  {
   "cell_type": "code",
   "execution_count": 37,
   "id": "35d202bb",
   "metadata": {},
   "outputs": [
    {
     "name": "stdout",
     "output_type": "stream",
     "text": [
      "TABLE student_details :\n",
      "(1, 'John', 'Smith', datetime.date(2000, 6, 11), '2', 'A')\n",
      "(2, 'John', 'Smith', datetime.date(2000, 6, 11), '2', 'A')\n",
      "(3, 'John', 'Smith', datetime.date(2000, 6, 16), '1', 'A')\n",
      "(4, 'Sam', 'Smith', datetime.date(2002, 6, 11), '2', 'B')\n",
      "(5, 'Lily', 'Prince', datetime.date(2003, 7, 17), '5', 'C')\n",
      "(6, 'Anna', 'Moly', datetime.date(2001, 5, 26), '2', 'A')\n",
      "(7, 'Will', 'Turnor', datetime.date(2003, 6, 11), '3', 'B')\n",
      "(8, 'Jacky', 'Chan', datetime.date(2002, 6, 20), '4', 'A')\n"
     ]
    }
   ],
   "source": [
    "query = \"select * from student_details;\"\n",
    "cursor.execute(query)\n",
    "print(f\"TABLE student_details :\")\n",
    "for db_name in cursor.fetchall():\n",
    "    print(f\"{db_name}\")\n"
   ]
  },
  {
   "cell_type": "markdown",
   "id": "bbf45308",
   "metadata": {},
   "source": [
    "# USE CASE : BANK MANAGEMENT SYSTEM\n",
    "\n",
    "## FLOW CHART\n",
    "\n",
    "1. register\n",
    "2. login \n",
    "\n",
    "### MENU WILL BE DISPLAYED\n",
    "\n",
    "1. create bank account\n",
    "2. transaction\n",
    "3. customer details\n",
    "4. transaction details\n",
    "5. delete account\n",
    "6. quit\n",
    "\n",
    "#### option 3 and 4 : data is fetch from the database\n",
    "\n",
    "#### option 1, 2, 5, 6 : data insert in the database\n"
   ]
  },
  {
   "cell_type": "code",
   "execution_count": 81,
   "id": "72b4b29d",
   "metadata": {},
   "outputs": [
    {
     "name": "stdout",
     "output_type": "stream",
     "text": [
      "Connected to <mysql.connector.connection_cext.CMySQLConnection object at 0x0000027AB63A3550> : True \n"
     ]
    }
   ],
   "source": [
    "import mysql.connector as connection\n",
    "from datetime import datetime\n",
    "import uuid \n",
    "\n",
    "db_connection = connection.connect(host='localhost',\n",
    "                          user='root',\n",
    "                          password='root', \n",
    "                          database='bank_project')\n",
    "db_cursor = db_connection.cursor()\n",
    "print(f\"Connected to {db_connection} : {db_connection.is_connected()} \")"
   ]
  },
  {
   "cell_type": "code",
   "execution_count": 71,
   "id": "632dcd3d",
   "metadata": {},
   "outputs": [],
   "source": [
    "def create_tables(db_connection, db_cursor):\n",
    "    try:\n",
    "#         CREATE USER TABLE\n",
    "        query = \"\"\"create table if not exists user_table(\n",
    "        user_name varchar(25) primary key,\n",
    "        user_password varchar(25) not null\n",
    "        );\"\"\"\n",
    "        db_cursor.execute(query)\n",
    "        db_connection.commit()\n",
    "#         print(f\"Created user table successfully!\")\n",
    "        \n",
    "#         CREATE CUSTOMER DETAILS TABLE \n",
    "        query = \"\"\"create table if not exists customer_details_table(\n",
    "        account_no varchar(30) primary key,\n",
    "        account_name varchar(25) not null,\n",
    "        phone_no bigint(25) check(phone_no > 11),\n",
    "        address varchar(25),\n",
    "        credit_amt float not null\n",
    "        );\"\"\"\n",
    "        db_cursor.execute(query)\n",
    "        db_connection.commit()\n",
    "#         print(f\"Created customer details table successfully!\")\n",
    "        \n",
    "#         CREATE TRANSACTIONS TABLE\n",
    "        query = \"\"\"create table if not exists transactions_table(\n",
    "        account_no varchar(30),\n",
    "        transaction_date timestamp,\n",
    "        withdrawal_amount float,\n",
    "        deposit_amount float,\n",
    "        balance_amount float\n",
    "        );\"\"\"\n",
    "        db_cursor.execute(query)\n",
    "        db_connection.commit()\n",
    "#         print(f\"Created transactions table successfully!\")\n",
    "        \n",
    "    except Exception as e:\n",
    "        print(f\"Exception : {e}\")\n",
    "        exit(1)\n",
    "        '''\n",
    "        Python has only two standard codes, i.e., a one and a zero. \n",
    "        The exit code of 0 means that the process has been executed and exited successfully. \n",
    "        This means no error was encountered. On the other hand, an error code of 1 indicates \n",
    "        that the process exited with a failure.\n",
    "        '''\n",
    "\n",
    "def register_new_user():\n",
    "    print(f\"PLEASE FILL THE REGISTATION DETAILS : \")\n",
    "    user_name = input(\"USER NAME : \")\n",
    "    user_password = input(\"PASSWORD : \")\n",
    "    phone_no = int(input(\"PHONE NUMBER : \"))\n",
    "    address = input(\"ADDRESS : \")\n",
    "    credite_amt = float(input(\"CREATE AMOUNT : \") or \"0\")\n",
    "    account_no = str(uuid.uuid4()) # GENERATE ACCOUNT ID\n",
    "    \n",
    "#     CHECK IF USER NAME IS AVAILABLE OR NOT\n",
    "    query = f\"\"\"select * from user_table where user_name = '{user_name}';\"\"\"\n",
    "    db_cursor.execute(query)\n",
    "    \n",
    "#     INSERT USER DATA TO USER TABLE\n",
    "    if len(db_cursor.fetchall()) > 0:\n",
    "        query = \"\"\"insert into user_table (user_name, user_password) \n",
    "        values ('{user_name}', '{user_password}');\"\"\"\n",
    "        db_cursor.execute(query)\n",
    "        db_connection.commit()\n",
    "\n",
    "#     CREATE 1ST TRANSACTION\n",
    "    if credite_amt > 0:\n",
    "#         GET BALANCE\n",
    "        query = \"\"\"select balance_amount \n",
    "        from transactions_table\n",
    "        order by transaction_date desc\n",
    "        limit 1;\"\"\"\n",
    "        db_cursor.execute(query)\n",
    "        if len(db_cursor.fetchall()) > 0:\n",
    "            balance_amount = db_cursor.fetchall()[0] + credite_amt\n",
    "        else:\n",
    "            balance_amount = credite_amt\n",
    "            \n",
    "#         INSERT TRANSACTION TO TRANSACTION TABLE\n",
    "        query = \"\"\"insert into transactions_table;\"\"\"\n",
    "        db_cursor.execute(query)\n",
    "        db_connection.commit()\n",
    "    \n",
    "def login_register(choice):\n",
    "#     CHECK IF REGISTER\n",
    "    if choice == 1:\n",
    "        register_new_user()"
   ]
  },
  {
   "cell_type": "code",
   "execution_count": 72,
   "id": "b9e09bb4",
   "metadata": {},
   "outputs": [],
   "source": [
    "def main():\n",
    "    create_tables(db_connection, db_cursor)\n",
    "    print(f\"----- WELLCOME TO MYSQL BANK -----\")\n",
    "    while True:\n",
    "        print(f\"1. REGISTER AS NEW USER. \\n2. LOGIN AS USER. \")\n",
    "        try:\n",
    "            login_register_choice = int(input(\"ENTER YOUR CHOICE PLEASE : \"))\n",
    "            login_register(login_register_choice)\n",
    "        except Exception as e:\n",
    "            print(f\"Exception : {e}\")\n",
    "            print(f\"PLEASE TRY AGAIN...\")\n",
    "    "
   ]
  },
  {
   "cell_type": "code",
   "execution_count": 73,
   "id": "d2e772eb",
   "metadata": {
    "scrolled": true
   },
   "outputs": [
    {
     "name": "stdout",
     "output_type": "stream",
     "text": [
      "----- WELLCOME TO MYSQL BANK -----\n",
      "1. REGISTER AS NEW USER. \n",
      "2. LOGIN AS USER. \n",
      "ENTER YOUR CHOICE PLEASE : 1\n",
      "PLEASE FILL THE REGISTATION DETAILS : \n",
      "USER NAME : kiran\n",
      "PASSWORD : kiran\n",
      "PHONE NUMBER : 1234567890\n",
      "ADDRESS : virar\n",
      "CREATE AMOUNT : 10\n",
      "user_name : []\n",
      "1. REGISTER AS NEW USER. \n",
      "2. LOGIN AS USER. \n"
     ]
    },
    {
     "ename": "KeyboardInterrupt",
     "evalue": "Interrupted by user",
     "output_type": "error",
     "traceback": [
      "\u001b[1;31m---------------------------------------------------------------------------\u001b[0m",
      "\u001b[1;31mKeyboardInterrupt\u001b[0m                         Traceback (most recent call last)",
      "Cell \u001b[1;32mIn[73], line 1\u001b[0m\n\u001b[1;32m----> 1\u001b[0m \u001b[43mmain\u001b[49m\u001b[43m(\u001b[49m\u001b[43m)\u001b[49m\n",
      "Cell \u001b[1;32mIn[72], line 7\u001b[0m, in \u001b[0;36mmain\u001b[1;34m()\u001b[0m\n\u001b[0;32m      5\u001b[0m \u001b[38;5;28mprint\u001b[39m(\u001b[38;5;124mf\u001b[39m\u001b[38;5;124m\"\u001b[39m\u001b[38;5;124m1. REGISTER AS NEW USER. \u001b[39m\u001b[38;5;130;01m\\n\u001b[39;00m\u001b[38;5;124m2. LOGIN AS USER. \u001b[39m\u001b[38;5;124m\"\u001b[39m)\n\u001b[0;32m      6\u001b[0m \u001b[38;5;28;01mtry\u001b[39;00m:\n\u001b[1;32m----> 7\u001b[0m     login_register_choice \u001b[38;5;241m=\u001b[39m \u001b[38;5;28mint\u001b[39m(\u001b[38;5;28;43minput\u001b[39;49m\u001b[43m(\u001b[49m\u001b[38;5;124;43m\"\u001b[39;49m\u001b[38;5;124;43mENTER YOUR CHOICE PLEASE : \u001b[39;49m\u001b[38;5;124;43m\"\u001b[39;49m\u001b[43m)\u001b[49m)\n\u001b[0;32m      8\u001b[0m     login_register(login_register_choice)\n\u001b[0;32m      9\u001b[0m \u001b[38;5;28;01mexcept\u001b[39;00m \u001b[38;5;167;01mException\u001b[39;00m \u001b[38;5;28;01mas\u001b[39;00m e:\n",
      "File \u001b[1;32m~\\AppData\\Local\\Programs\\Python\\Python310\\lib\\site-packages\\ipykernel\\kernelbase.py:1191\u001b[0m, in \u001b[0;36mKernel.raw_input\u001b[1;34m(self, prompt)\u001b[0m\n\u001b[0;32m   1189\u001b[0m     msg \u001b[38;5;241m=\u001b[39m \u001b[38;5;124m\"\u001b[39m\u001b[38;5;124mraw_input was called, but this frontend does not support input requests.\u001b[39m\u001b[38;5;124m\"\u001b[39m\n\u001b[0;32m   1190\u001b[0m     \u001b[38;5;28;01mraise\u001b[39;00m StdinNotImplementedError(msg)\n\u001b[1;32m-> 1191\u001b[0m \u001b[38;5;28;01mreturn\u001b[39;00m \u001b[38;5;28;43mself\u001b[39;49m\u001b[38;5;241;43m.\u001b[39;49m\u001b[43m_input_request\u001b[49m\u001b[43m(\u001b[49m\n\u001b[0;32m   1192\u001b[0m \u001b[43m    \u001b[49m\u001b[38;5;28;43mstr\u001b[39;49m\u001b[43m(\u001b[49m\u001b[43mprompt\u001b[49m\u001b[43m)\u001b[49m\u001b[43m,\u001b[49m\n\u001b[0;32m   1193\u001b[0m \u001b[43m    \u001b[49m\u001b[38;5;28;43mself\u001b[39;49m\u001b[38;5;241;43m.\u001b[39;49m\u001b[43m_parent_ident\u001b[49m\u001b[43m[\u001b[49m\u001b[38;5;124;43m\"\u001b[39;49m\u001b[38;5;124;43mshell\u001b[39;49m\u001b[38;5;124;43m\"\u001b[39;49m\u001b[43m]\u001b[49m\u001b[43m,\u001b[49m\n\u001b[0;32m   1194\u001b[0m \u001b[43m    \u001b[49m\u001b[38;5;28;43mself\u001b[39;49m\u001b[38;5;241;43m.\u001b[39;49m\u001b[43mget_parent\u001b[49m\u001b[43m(\u001b[49m\u001b[38;5;124;43m\"\u001b[39;49m\u001b[38;5;124;43mshell\u001b[39;49m\u001b[38;5;124;43m\"\u001b[39;49m\u001b[43m)\u001b[49m\u001b[43m,\u001b[49m\n\u001b[0;32m   1195\u001b[0m \u001b[43m    \u001b[49m\u001b[43mpassword\u001b[49m\u001b[38;5;241;43m=\u001b[39;49m\u001b[38;5;28;43;01mFalse\u001b[39;49;00m\u001b[43m,\u001b[49m\n\u001b[0;32m   1196\u001b[0m \u001b[43m\u001b[49m\u001b[43m)\u001b[49m\n",
      "File \u001b[1;32m~\\AppData\\Local\\Programs\\Python\\Python310\\lib\\site-packages\\ipykernel\\kernelbase.py:1234\u001b[0m, in \u001b[0;36mKernel._input_request\u001b[1;34m(self, prompt, ident, parent, password)\u001b[0m\n\u001b[0;32m   1231\u001b[0m \u001b[38;5;28;01mexcept\u001b[39;00m \u001b[38;5;167;01mKeyboardInterrupt\u001b[39;00m:\n\u001b[0;32m   1232\u001b[0m     \u001b[38;5;66;03m# re-raise KeyboardInterrupt, to truncate traceback\u001b[39;00m\n\u001b[0;32m   1233\u001b[0m     msg \u001b[38;5;241m=\u001b[39m \u001b[38;5;124m\"\u001b[39m\u001b[38;5;124mInterrupted by user\u001b[39m\u001b[38;5;124m\"\u001b[39m\n\u001b[1;32m-> 1234\u001b[0m     \u001b[38;5;28;01mraise\u001b[39;00m \u001b[38;5;167;01mKeyboardInterrupt\u001b[39;00m(msg) \u001b[38;5;28;01mfrom\u001b[39;00m \u001b[38;5;28;01mNone\u001b[39;00m\n\u001b[0;32m   1235\u001b[0m \u001b[38;5;28;01mexcept\u001b[39;00m \u001b[38;5;167;01mException\u001b[39;00m:\n\u001b[0;32m   1236\u001b[0m     \u001b[38;5;28mself\u001b[39m\u001b[38;5;241m.\u001b[39mlog\u001b[38;5;241m.\u001b[39mwarning(\u001b[38;5;124m\"\u001b[39m\u001b[38;5;124mInvalid Message:\u001b[39m\u001b[38;5;124m\"\u001b[39m, exc_info\u001b[38;5;241m=\u001b[39m\u001b[38;5;28;01mTrue\u001b[39;00m)\n",
      "\u001b[1;31mKeyboardInterrupt\u001b[0m: Interrupted by user"
     ]
    }
   ],
   "source": [
    "main()"
   ]
  },
  {
   "cell_type": "code",
   "execution_count": 80,
   "id": "fe3ddfe3",
   "metadata": {
    "scrolled": true
   },
   "outputs": [
    {
     "name": "stdout",
     "output_type": "stream",
     "text": [
      "2023-08-29 12:08:41.057374\n"
     ]
    }
   ],
   "source": [
    "d = datetime.now()\n",
    "print(d)"
   ]
  },
  {
   "cell_type": "code",
   "execution_count": null,
   "id": "3f91e92b",
   "metadata": {},
   "outputs": [],
   "source": []
  }
 ],
 "metadata": {
  "kernelspec": {
   "display_name": "Python 3 (ipykernel)",
   "language": "python",
   "name": "python3"
  },
  "language_info": {
   "codemirror_mode": {
    "name": "ipython",
    "version": 3
   },
   "file_extension": ".py",
   "mimetype": "text/x-python",
   "name": "python",
   "nbconvert_exporter": "python",
   "pygments_lexer": "ipython3",
   "version": "3.10.10"
  }
 },
 "nbformat": 4,
 "nbformat_minor": 5
}
