{
 "cells": [
  {
   "cell_type": "code",
   "execution_count": 2,
   "id": "4337ebe1",
   "metadata": {},
   "outputs": [],
   "source": [
    "# https://pypi.org/project/mysql-connector-python/\n",
    "# !pip install mysql-connector-python"
   ]
  },
  {
   "cell_type": "code",
   "execution_count": 8,
   "id": "e9df7aec",
   "metadata": {},
   "outputs": [],
   "source": [
    "import mysql.connector as connection"
   ]
  },
  {
   "cell_type": "code",
   "execution_count": 14,
   "id": "bbc4c3cc",
   "metadata": {},
   "outputs": [
    {
     "name": "stdout",
     "output_type": "stream",
     "text": [
      "Connected to : <mysql.connector.connection_cext.CMySQLConnection object at 0x0000027AB4AAC730>\n",
      "[('information_schema',), ('mysql',), ('performance_schema',), ('sakila',), ('sys',), ('world',)]\n"
     ]
    }
   ],
   "source": [
    "try:\n",
    "    mydb = connection.connect(host='localhost',\n",
    "                             user='root',\n",
    "                             password='root')\n",
    "    print(f\"Connected to : {mydb}\")\n",
    "    \n",
    "    cursor = mydb.cursor()\n",
    "    query = \"show databases;\"\n",
    "    cursor.execute(query)\n",
    "    print(f\"{cursor.fetchall()}\")\n",
    "except Exception as e:\n",
    "    mydb.close()\n",
    "    print(f\"Exception : {e}\")\n",
    "    "
   ]
  },
  {
   "cell_type": "code",
   "execution_count": 21,
   "id": "f3c95da5",
   "metadata": {},
   "outputs": [
    {
     "name": "stdout",
     "output_type": "stream",
     "text": [
      "CREATE DATABASE : []\n",
      "SHOW DATABASE :\n",
      "information_schema\n",
      "mysql\n",
      "performance_schema\n",
      "project_practice\n",
      "sakila\n",
      "sys\n",
      "world\n"
     ]
    }
   ],
   "source": [
    "# CREATE DATABASE\n",
    "query = 'CREATE database project_practice;'\n",
    "cursor.execute(query)\n",
    "print(f\"CREATE DATABASE : {cursor.fetchall()}\")\n",
    "\n",
    "query = \"show databases;\"\n",
    "cursor.execute(query)\n",
    "print(f\"SHOW DATABASE :\")\n",
    "for db_name in cursor.fetchall():\n",
    "    print(f\"{db_name[0]}\")\n",
    "\n",
    "# TO DROP/DELETE DATABASE\n",
    "# query = 'drop database project_practice;'"
   ]
  },
  {
   "cell_type": "code",
   "execution_count": 27,
   "id": "d84e3f16",
   "metadata": {},
   "outputs": [
    {
     "name": "stdout",
     "output_type": "stream",
     "text": [
      "Connected to : <mysql.connector.connection_cext.CMySQLConnection object at 0x0000027AB4A67DF0> , CMySQLCursor: (Nothing executed yet)\n",
      "SHOW TABLE : []\n"
     ]
    }
   ],
   "source": [
    "# CREATE TABLE\n",
    "mydb = connection.connect(host='localhost',\n",
    "                          user='root',\n",
    "                          password='root', \n",
    "                          database='project_practice')\n",
    "cursor = mydb.cursor()\n",
    "print(f\"Connected to : {mydb} , {cursor}\")\n",
    "\n",
    "query = \"\"\"create table if not exists student_details (stud_id int(10) auto_increment primary key, first_name varchar(20),\n",
    "last_name varchar(20), registration_date date, class varchar(20), section varchar(20));\"\"\"\n",
    "# query = \"\"\"use project_practice;\n",
    "# create table student_details (stud_id int(10) auto_increment primary key, first_name varchar(20),\n",
    "# last_name varchar(20), registration_date date, class varchar(20), section varchar(20));\"\"\"\n",
    "cursor.execute(query)\n",
    "print(f\"SHOW TABLE : {cursor.fetchall()}\")"
   ]
  },
  {
   "cell_type": "code",
   "execution_count": null,
   "id": "f77f974d",
   "metadata": {},
   "outputs": [],
   "source": []
  },
  {
   "cell_type": "code",
   "execution_count": null,
   "id": "6ceb48e9",
   "metadata": {},
   "outputs": [],
   "source": []
  }
 ],
 "metadata": {
  "kernelspec": {
   "display_name": "Python 3 (ipykernel)",
   "language": "python",
   "name": "python3"
  },
  "language_info": {
   "codemirror_mode": {
    "name": "ipython",
    "version": 3
   },
   "file_extension": ".py",
   "mimetype": "text/x-python",
   "name": "python",
   "nbconvert_exporter": "python",
   "pygments_lexer": "ipython3",
   "version": "3.10.10"
  }
 },
 "nbformat": 4,
 "nbformat_minor": 5
}
