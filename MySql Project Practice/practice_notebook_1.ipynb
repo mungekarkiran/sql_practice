{
 "cells": [
  {
   "cell_type": "code",
   "execution_count": 2,
   "id": "416d88dd",
   "metadata": {},
   "outputs": [],
   "source": [
    "# https://pypi.org/project/mysql-connector-python/\n",
    "# !pip install mysql-connector-python"
   ]
  },
  {
   "cell_type": "code",
   "execution_count": 8,
   "id": "b382686a",
   "metadata": {},
   "outputs": [],
   "source": [
    "import mysql.connector as connection"
   ]
  },
  {
   "cell_type": "code",
   "execution_count": 14,
   "id": "926dd42e",
   "metadata": {},
   "outputs": [
    {
     "name": "stdout",
     "output_type": "stream",
     "text": [
      "Connected to : <mysql.connector.connection_cext.CMySQLConnection object at 0x0000027AB4AAC730>\n",
      "[('information_schema',), ('mysql',), ('performance_schema',), ('sakila',), ('sys',), ('world',)]\n"
     ]
    }
   ],
   "source": [
    "try:\n",
    "    mydb = connection.connect(host='localhost',\n",
    "                             user='root',\n",
    "                             password='root')\n",
    "    print(f\"Connected to : {mydb}\")\n",
    "    \n",
    "    cursor = mydb.cursor()\n",
    "    query = \"show databases;\"\n",
    "    cursor.execute(query)\n",
    "    print(f\"{cursor.fetchall()}\")\n",
    "except Exception as e:\n",
    "    mydb.close()\n",
    "    print(f\"Exception : {e}\")\n",
    "    "
   ]
  },
  {
   "cell_type": "code",
   "execution_count": 21,
   "id": "91850570",
   "metadata": {},
   "outputs": [
    {
     "name": "stdout",
     "output_type": "stream",
     "text": [
      "CREATE DATABASE : []\n",
      "SHOW DATABASE :\n",
      "information_schema\n",
      "mysql\n",
      "performance_schema\n",
      "project_practice\n",
      "sakila\n",
      "sys\n",
      "world\n"
     ]
    }
   ],
   "source": [
    "# CREATE DATABASE\n",
    "query = 'CREATE database project_practice;'\n",
    "cursor.execute(query)\n",
    "print(f\"CREATE DATABASE : {cursor.fetchall()}\")\n",
    "\n",
    "query = \"show databases;\"\n",
    "cursor.execute(query)\n",
    "print(f\"SHOW DATABASE :\")\n",
    "for db_name in cursor.fetchall():\n",
    "    print(f\"{db_name[0]}\")\n",
    "\n",
    "# TO DROP/DELETE DATABASE\n",
    "# query = 'drop database project_practice;'"
   ]
  },
  {
   "cell_type": "code",
   "execution_count": 27,
   "id": "986c6c9a",
   "metadata": {},
   "outputs": [
    {
     "name": "stdout",
     "output_type": "stream",
     "text": [
      "Connected to : <mysql.connector.connection_cext.CMySQLConnection object at 0x0000027AB4A67DF0> , CMySQLCursor: (Nothing executed yet)\n",
      "SHOW TABLE : []\n"
     ]
    }
   ],
   "source": [
    "# CREATE TABLE\n",
    "mydb = connection.connect(host='localhost',\n",
    "                          user='root',\n",
    "                          password='root', \n",
    "                          database='project_practice')\n",
    "cursor = mydb.cursor()\n",
    "print(f\"Connected to : {mydb} , {cursor}\")\n",
    "\n",
    "query = \"\"\"create table if not exists student_details (stud_id int(10) auto_increment primary key, first_name varchar(20),\n",
    "last_name varchar(20), registration_date date, class varchar(20), section varchar(20));\"\"\"\n",
    "# query = \"\"\"use project_practice;\n",
    "# create table student_details (stud_id int(10) auto_increment primary key, first_name varchar(20),\n",
    "# last_name varchar(20), registration_date date, class varchar(20), section varchar(20));\"\"\"\n",
    "cursor.execute(query)\n",
    "print(f\"SHOW TABLE : {cursor.fetchall()}\")"
   ]
  },
  {
   "cell_type": "code",
   "execution_count": 34,
   "id": "4455dac1",
   "metadata": {},
   "outputs": [
    {
     "name": "stdout",
     "output_type": "stream",
     "text": [
      "1 record inserted.\n"
     ]
    }
   ],
   "source": [
    "# INSERT DATA\n",
    "query = \"INSERT INTO student_details (first_name, last_name, registration_date, class, section) VALUES (%s, %s, %s, %s, %s);\"\n",
    "values = (\"John\", \"Smith\", \"2000-06-16\", \"1\", \"A\")\n",
    "\n",
    "cursor.execute(query, values)\n",
    "\n",
    "mydb.commit()\n",
    "\n",
    "print(cursor.rowcount, \"record inserted.\")"
   ]
  },
  {
   "cell_type": "code",
   "execution_count": 35,
   "id": "e1aa322e",
   "metadata": {},
   "outputs": [
    {
     "name": "stdout",
     "output_type": "stream",
     "text": [
      "5 record inserted.\n"
     ]
    }
   ],
   "source": [
    "query = \"INSERT INTO student_details (first_name, last_name, registration_date, class, section) VALUES (%s, %s, %s, %s, %s);\"\n",
    "values = [\n",
    "    (\"Sam\", \"Smith\", \"2002-06-11\", \"2\", \"B\"),\n",
    "    (\"Lily\", \"Prince\", \"2003-07-17\", \"5\", \"C\"),\n",
    "    (\"Anna\", \"Moly\", \"2001-05-26\", \"2\", \"A\"),\n",
    "    (\"Will\", \"Turnor\", \"2003-06-11\", \"3\", \"B\"),\n",
    "    (\"Jacky\", \"Chan\", \"2002-06-20\", \"4\", \"A\")\n",
    "]\n",
    "# To insert multiple rows into a table, use the executemany() method.\n",
    "cursor.executemany(query, values)\n",
    "\n",
    "mydb.commit()\n",
    "\n",
    "print(cursor.rowcount, \"record inserted.\")"
   ]
  },
  {
   "cell_type": "code",
   "execution_count": 37,
   "id": "ec9b9297",
   "metadata": {},
   "outputs": [
    {
     "name": "stdout",
     "output_type": "stream",
     "text": [
      "TABLE student_details :\n",
      "(1, 'John', 'Smith', datetime.date(2000, 6, 11), '2', 'A')\n",
      "(2, 'John', 'Smith', datetime.date(2000, 6, 11), '2', 'A')\n",
      "(3, 'John', 'Smith', datetime.date(2000, 6, 16), '1', 'A')\n",
      "(4, 'Sam', 'Smith', datetime.date(2002, 6, 11), '2', 'B')\n",
      "(5, 'Lily', 'Prince', datetime.date(2003, 7, 17), '5', 'C')\n",
      "(6, 'Anna', 'Moly', datetime.date(2001, 5, 26), '2', 'A')\n",
      "(7, 'Will', 'Turnor', datetime.date(2003, 6, 11), '3', 'B')\n",
      "(8, 'Jacky', 'Chan', datetime.date(2002, 6, 20), '4', 'A')\n"
     ]
    }
   ],
   "source": [
    "query = \"select * from student_details;\"\n",
    "cursor.execute(query)\n",
    "print(f\"TABLE student_details :\")\n",
    "for db_name in cursor.fetchall():\n",
    "    print(f\"{db_name}\")\n"
   ]
  },
  {
   "cell_type": "markdown",
   "id": "06c60f92",
   "metadata": {},
   "source": [
    "# USE CASE : BANK MANAGEMENT SYSTEM\n",
    "\n",
    "## FLOW CHART\n",
    "\n",
    "1. register\n",
    "2. login \n",
    "\n",
    "### MENU WILL BE DISPLAYED\n",
    "\n",
    "1. create bank account\n",
    "2. transaction\n",
    "3. customer details\n",
    "4. transaction details\n",
    "5. delete account\n",
    "6. quit\n",
    "\n",
    "#### option 3 and 4 : data is fetch from the database\n",
    "\n",
    "#### option 1, 2, 5, 6 : data insert in the database\n"
   ]
  },
  {
   "cell_type": "code",
   "execution_count": 45,
   "id": "aa55dcff",
   "metadata": {},
   "outputs": [
    {
     "name": "stdout",
     "output_type": "stream",
     "text": [
      "Connected to <mysql.connector.connection_cext.CMySQLConnection object at 0x0000027AB5D46BF0> : True \n"
     ]
    }
   ],
   "source": [
    "import mysql.connector as connection\n",
    "\n",
    "db_connection = connection.connect(host='localhost',\n",
    "                          user='root',\n",
    "                          password='root', \n",
    "                          database='bank_project')\n",
    "db_cursor = db_connection.cursor()\n",
    "print(f\"Connected to {db_connection} : {db_connection.is_connected()} \")"
   ]
  },
  {
   "cell_type": "code",
   "execution_count": 56,
   "id": "dd435e17",
   "metadata": {},
   "outputs": [],
   "source": [
    "def create_tables(db_connection, db_cursor):\n",
    "    try:\n",
    "#         CREATE USER TABLE\n",
    "        query = \"\"\"create table if not exists user_table(\n",
    "        user_name varchar(25) primary key,\n",
    "        user_password varchar(25) not null\n",
    "        );\"\"\"\n",
    "        db_cursor.execute(query)\n",
    "        db_connection.commit()\n",
    "#         print(f\"Created user table successfully!\")\n",
    "        \n",
    "#         CREATE CUSTOMER DETAILS TABLE \n",
    "        query = \"\"\"create table if not exists customer_details_table(\n",
    "        account_no int primary key,\n",
    "        account_name varchar(25) not null,\n",
    "        phone_no bigint(25) check(phone_no > 11),\n",
    "        address varchar(25),\n",
    "        credit_amt float not null\n",
    "        );\"\"\"\n",
    "        db_cursor.execute(query)\n",
    "        db_connection.commit()\n",
    "#         print(f\"Created customer details table successfully!\")\n",
    "        \n",
    "#         CREATE TRANSACTIONS TABLE\n",
    "        query = \"\"\"create table if not exists transactions_table(\n",
    "        account_no int(11),\n",
    "        transaction_date date,\n",
    "        withdrawal_amt bigint(28),\n",
    "        amount_added bigint(28)\n",
    "        );\"\"\"\n",
    "        db_cursor.execute(query)\n",
    "        db_connection.commit()\n",
    "#         print(f\"Created transactions table successfully!\")\n",
    "        \n",
    "    except Exception as e:\n",
    "        print(f\"Exception : {e}\")\n",
    "        exit(1)\n",
    "        '''\n",
    "        Python has only two standard codes, i.e., a one and a zero. \n",
    "        The exit code of 0 means that the process has been executed and exited successfully. \n",
    "        This means no error was encountered. On the other hand, an error code of 1 indicates \n",
    "        that the process exited with a failure.\n",
    "        '''\n",
    "\n",
    "def register_new_user():\n",
    "    print(f\"PLEASE FILL THE REGISTATION DETAILS : \")\n",
    "    user_name = input(\"USER NAME : \")\n",
    "    user_password = input(\"PASSWORD : \")\n",
    "    phone_no = int(input(\"PHONE NUMBER : \"))\n",
    "    address = input(\"ADDRESS : \")\n",
    "    credite_amt = float(input(\"CREATE AMOUNT : \"))\n",
    "    \n",
    "    \n",
    "    \n",
    "def login_register(choice):\n",
    "#     CHECK IF REGISTER\n",
    "    if choice == 1:\n",
    "        register_new_user()"
   ]
  },
  {
   "cell_type": "code",
   "execution_count": 57,
   "id": "35321a45",
   "metadata": {},
   "outputs": [],
   "source": [
    "def main():\n",
    "    create_tables(db_connection, db_cursor)\n",
    "    print(f\"----- WELLCOME TO MYSQL BANK -----\")\n",
    "    while True:\n",
    "        print(f\"1. REGISTER AS NEW USER. \\n2. LOGIN AS USER. \")\n",
    "        try:\n",
    "            login_register_choice = int(input(\"ENTER YOUR CHOICE PLEASE : \"))\n",
    "            login_register(login_register_choice)\n",
    "        except Exception as e:\n",
    "            print(f\"Exception : {e}\")\n",
    "            print(f\"PLEASE TRY AGAIN...\")\n",
    "    "
   ]
  },
  {
   "cell_type": "code",
   "execution_count": 58,
   "id": "348fc4ea",
   "metadata": {},
   "outputs": [
    {
     "name": "stdout",
     "output_type": "stream",
     "text": [
      "----- WELLCOME TO MYSQL BANK -----\n"
     ]
    }
   ],
   "source": [
    "main()"
   ]
  },
  {
   "cell_type": "code",
   "execution_count": null,
   "id": "3eeaf054",
   "metadata": {},
   "outputs": [],
   "source": []
  }
 ],
 "metadata": {
  "kernelspec": {
   "display_name": "Python 3 (ipykernel)",
   "language": "python",
   "name": "python3"
  },
  "language_info": {
   "codemirror_mode": {
    "name": "ipython",
    "version": 3
   },
   "file_extension": ".py",
   "mimetype": "text/x-python",
   "name": "python",
   "nbconvert_exporter": "python",
   "pygments_lexer": "ipython3",
   "version": "3.10.10"
  }
 },
 "nbformat": 4,
 "nbformat_minor": 5
}
