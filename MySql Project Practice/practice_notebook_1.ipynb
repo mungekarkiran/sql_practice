{
 "cells": [
  {
   "cell_type": "code",
   "execution_count": 2,
   "id": "cce877ae",
   "metadata": {},
   "outputs": [],
   "source": [
    "# https://pypi.org/project/mysql-connector-python/\n",
    "# !pip install mysql-connector-python"
   ]
  },
  {
   "cell_type": "code",
   "execution_count": 8,
   "id": "ed915309",
   "metadata": {},
   "outputs": [],
   "source": [
    "import mysql.connector as connection"
   ]
  },
  {
   "cell_type": "code",
   "execution_count": 14,
   "id": "a2ddc6c7",
   "metadata": {},
   "outputs": [
    {
     "name": "stdout",
     "output_type": "stream",
     "text": [
      "Connected to : <mysql.connector.connection_cext.CMySQLConnection object at 0x0000027AB4AAC730>\n",
      "[('information_schema',), ('mysql',), ('performance_schema',), ('sakila',), ('sys',), ('world',)]\n"
     ]
    }
   ],
   "source": [
    "try:\n",
    "    mydb = connection.connect(host='localhost',\n",
    "                             user='root',\n",
    "                             password='root')\n",
    "    print(f\"Connected to : {mydb}\")\n",
    "    \n",
    "    cursor = mydb.cursor()\n",
    "    query = \"show databases;\"\n",
    "    cursor.execute(query)\n",
    "    print(f\"{cursor.fetchall()}\")\n",
    "except Exception as e:\n",
    "    mydb.close()\n",
    "    print(f\"Exception : {e}\")\n",
    "    "
   ]
  },
  {
   "cell_type": "code",
   "execution_count": 21,
   "id": "0376a4ba",
   "metadata": {},
   "outputs": [
    {
     "name": "stdout",
     "output_type": "stream",
     "text": [
      "CREATE DATABASE : []\n",
      "SHOW DATABASE :\n",
      "information_schema\n",
      "mysql\n",
      "performance_schema\n",
      "project_practice\n",
      "sakila\n",
      "sys\n",
      "world\n"
     ]
    }
   ],
   "source": [
    "# CREATE DATABASE\n",
    "query = 'CREATE database project_practice;'\n",
    "cursor.execute(query)\n",
    "print(f\"CREATE DATABASE : {cursor.fetchall()}\")\n",
    "\n",
    "query = \"show databases;\"\n",
    "cursor.execute(query)\n",
    "print(f\"SHOW DATABASE :\")\n",
    "for db_name in cursor.fetchall():\n",
    "    print(f\"{db_name[0]}\")\n",
    "\n",
    "# TO DROP/DELETE DATABASE\n",
    "# query = 'drop database project_practice;'"
   ]
  },
  {
   "cell_type": "code",
   "execution_count": 27,
   "id": "a22ac27c",
   "metadata": {},
   "outputs": [
    {
     "name": "stdout",
     "output_type": "stream",
     "text": [
      "Connected to : <mysql.connector.connection_cext.CMySQLConnection object at 0x0000027AB4A67DF0> , CMySQLCursor: (Nothing executed yet)\n",
      "SHOW TABLE : []\n"
     ]
    }
   ],
   "source": [
    "# CREATE TABLE\n",
    "mydb = connection.connect(host='localhost',\n",
    "                          user='root',\n",
    "                          password='root', \n",
    "                          database='project_practice')\n",
    "cursor = mydb.cursor()\n",
    "print(f\"Connected to : {mydb} , {cursor}\")\n",
    "\n",
    "query = \"\"\"create table if not exists student_details (stud_id int(10) auto_increment primary key, first_name varchar(20),\n",
    "last_name varchar(20), registration_date date, class varchar(20), section varchar(20));\"\"\"\n",
    "# query = \"\"\"use project_practice;\n",
    "# create table student_details (stud_id int(10) auto_increment primary key, first_name varchar(20),\n",
    "# last_name varchar(20), registration_date date, class varchar(20), section varchar(20));\"\"\"\n",
    "cursor.execute(query)\n",
    "print(f\"SHOW TABLE : {cursor.fetchall()}\")"
   ]
  },
  {
   "cell_type": "code",
   "execution_count": 34,
   "id": "cb16170f",
   "metadata": {},
   "outputs": [
    {
     "name": "stdout",
     "output_type": "stream",
     "text": [
      "1 record inserted.\n"
     ]
    }
   ],
   "source": [
    "# INSERT DATA\n",
    "query = \"INSERT INTO student_details (first_name, last_name, registration_date, class, section) VALUES (%s, %s, %s, %s, %s);\"\n",
    "values = (\"John\", \"Smith\", \"2000-06-16\", \"1\", \"A\")\n",
    "\n",
    "cursor.execute(query, values)\n",
    "\n",
    "mydb.commit()\n",
    "\n",
    "print(cursor.rowcount, \"record inserted.\")"
   ]
  },
  {
   "cell_type": "code",
   "execution_count": 35,
   "id": "563f581e",
   "metadata": {},
   "outputs": [
    {
     "name": "stdout",
     "output_type": "stream",
     "text": [
      "5 record inserted.\n"
     ]
    }
   ],
   "source": [
    "query = \"INSERT INTO student_details (first_name, last_name, registration_date, class, section) VALUES (%s, %s, %s, %s, %s);\"\n",
    "values = [\n",
    "    (\"Sam\", \"Smith\", \"2002-06-11\", \"2\", \"B\"),\n",
    "    (\"Lily\", \"Prince\", \"2003-07-17\", \"5\", \"C\"),\n",
    "    (\"Anna\", \"Moly\", \"2001-05-26\", \"2\", \"A\"),\n",
    "    (\"Will\", \"Turnor\", \"2003-06-11\", \"3\", \"B\"),\n",
    "    (\"Jacky\", \"Chan\", \"2002-06-20\", \"4\", \"A\")\n",
    "]\n",
    "# To insert multiple rows into a table, use the executemany() method.\n",
    "cursor.executemany(query, values)\n",
    "\n",
    "mydb.commit()\n",
    "\n",
    "print(cursor.rowcount, \"record inserted.\")"
   ]
  },
  {
   "cell_type": "code",
   "execution_count": 37,
   "id": "b2e23641",
   "metadata": {},
   "outputs": [
    {
     "name": "stdout",
     "output_type": "stream",
     "text": [
      "TABLE student_details :\n",
      "(1, 'John', 'Smith', datetime.date(2000, 6, 11), '2', 'A')\n",
      "(2, 'John', 'Smith', datetime.date(2000, 6, 11), '2', 'A')\n",
      "(3, 'John', 'Smith', datetime.date(2000, 6, 16), '1', 'A')\n",
      "(4, 'Sam', 'Smith', datetime.date(2002, 6, 11), '2', 'B')\n",
      "(5, 'Lily', 'Prince', datetime.date(2003, 7, 17), '5', 'C')\n",
      "(6, 'Anna', 'Moly', datetime.date(2001, 5, 26), '2', 'A')\n",
      "(7, 'Will', 'Turnor', datetime.date(2003, 6, 11), '3', 'B')\n",
      "(8, 'Jacky', 'Chan', datetime.date(2002, 6, 20), '4', 'A')\n"
     ]
    }
   ],
   "source": [
    "query = \"select * from student_details;\"\n",
    "cursor.execute(query)\n",
    "print(f\"TABLE student_details :\")\n",
    "for db_name in cursor.fetchall():\n",
    "    print(f\"{db_name}\")\n"
   ]
  },
  {
   "cell_type": "markdown",
   "id": "c836f4c9",
   "metadata": {},
   "source": [
    "# USE CASE : BANK MANAGEMENT SYSTEM\n",
    "\n",
    "## FLOW CHART\n",
    "\n",
    "1. register\n",
    "2. login \n",
    "\n",
    "### MENU WILL BE DISPLAYED\n",
    "\n",
    "1. create bank account\n",
    "2. transaction\n",
    "3. customer details\n",
    "4. transaction details\n",
    "5. delete account\n",
    "6. quit\n",
    "\n",
    "#### option 3 and 4 : data is fetch from the database\n",
    "\n",
    "#### option 1, 2, 5, 6 : data insert in the database\n"
   ]
  },
  {
   "cell_type": "code",
   "execution_count": 12,
   "id": "80c8e273",
   "metadata": {},
   "outputs": [
    {
     "name": "stdout",
     "output_type": "stream",
     "text": [
      "Connected to <mysql.connector.connection_cext.CMySQLConnection object at 0x000001D439C830A0> : True \n"
     ]
    }
   ],
   "source": [
    "import mysql.connector as connection\n",
    "from datetime import datetime\n",
    "import numpy as np\n",
    "import uuid \n",
    "\n",
    "db_connection = connection.connect(host='localhost',\n",
    "                          user='root',\n",
    "                          password='root', \n",
    "                          database='bank_project')\n",
    "db_cursor = db_connection.cursor()\n",
    "print(f\"Connected to {db_connection} : {db_connection.is_connected()} \")"
   ]
  },
  {
   "cell_type": "code",
   "execution_count": 20,
   "id": "a1dac96e",
   "metadata": {},
   "outputs": [],
   "source": [
    "def create_tables(db_connection, db_cursor):\n",
    "    try:\n",
    "#         CREATE USER TABLE\n",
    "        query = \"\"\"create table if not exists user_table(\n",
    "        user_name varchar(25) primary key,\n",
    "        user_password varchar(25) not null\n",
    "        );\"\"\"\n",
    "        db_cursor.execute(query)\n",
    "        db_connection.commit()\n",
    "#         print(f\"Created user table successfully!\")\n",
    "        \n",
    "#         CREATE CUSTOMER DETAILS TABLE \n",
    "        query = \"\"\"create table if not exists customer_details_table(\n",
    "        account_no varchar(50) primary key,\n",
    "        account_name varchar(25) not null,\n",
    "        phone_no bigint(25) check(phone_no > 9),\n",
    "        address varchar(25),\n",
    "        account_balance float not null\n",
    "        );\"\"\"\n",
    "        db_cursor.execute(query)\n",
    "        db_connection.commit()\n",
    "#         print(f\"Created customer details table successfully!\")\n",
    "        \n",
    "#         CREATE TRANSACTIONS TABLE\n",
    "        query = \"\"\"create table if not exists transactions_table(\n",
    "        account_no varchar(50),\n",
    "        transaction_date timestamp,\n",
    "        withdrawal_amount float,\n",
    "        deposit_amount float,\n",
    "        balance_amount float\n",
    "        );\"\"\"\n",
    "        db_cursor.execute(query)\n",
    "        db_connection.commit()\n",
    "#         print(f\"Created transactions table successfully!\")\n",
    "        \n",
    "    except Exception as e:\n",
    "        print(f\"[create_tables] Exception : {e}\")\n",
    "        exit(1)\n",
    "        '''\n",
    "        Python has only two standard codes, i.e., a one and a zero. \n",
    "        The exit code of 0 means that the process has been executed and exited successfully. \n",
    "        This means no error was encountered. On the other hand, an error code of 1 indicates \n",
    "        that the process exited with a failure.\n",
    "        '''\n",
    "\n",
    "def register_new_user():\n",
    "    print(f\"PLEASE FILL THE REGISTATION DETAILS : \")\n",
    "    user_name = input(\"USER NAME : \")\n",
    "    user_password = input(\"PASSWORD : \")\n",
    "    phone_no = int(input(\"PHONE NUMBER : \"))\n",
    "    address = input(\"ADDRESS : \")\n",
    "    credite_amt = float(input(\"CREATE AMOUNT : \") or \"0\")\n",
    "    account_no = str(uuid.uuid4()) # GENERATE ACCOUNT ID\n",
    "    transaction_date = str(datetime.now()).split('.')[0]\n",
    "    \n",
    "#     CHECK IF USER NAME IS AVAILABLE OR NOT\n",
    "    query = f\"\"\"select * from user_table where user_name = '{user_name}';\"\"\"\n",
    "    db_cursor.execute(query)\n",
    "    \n",
    "#     INSERT USER DATA TO USER TABLE\n",
    "    if len(db_cursor.fetchall()) == 0:\n",
    "        query = f\"\"\"insert into user_table (user_name, user_password) \n",
    "        values ('{user_name}', '{user_password}');\"\"\"\n",
    "        db_cursor.execute(query)\n",
    "        db_connection.commit()\n",
    "        \n",
    "#         ADD CUSTOMER DETAILS IN CUSTOMER DETAIL TABLE \n",
    "        query = f\"\"\"insert into customer_details_table (account_no, account_name,\n",
    "        phone_no, address, account_balance) values ('{account_no}', '{user_name}', \n",
    "        {phone_no}, '{address}', {credite_amt});\"\"\"\n",
    "        db_cursor.execute(query)\n",
    "        db_connection.commit()\n",
    "        print(f\"ADD CUSTOMER DETAILS IN CUSTOMER DETAIL TABLE : {db_cursor}\")\n",
    "        \n",
    "#         CREATE 1ST TRANSACTION\n",
    "        if credite_amt > 0:\n",
    "#             GET BALANCE\n",
    "#             query = \"\"\"select balance_amount \n",
    "#             from transactions_table\n",
    "#             order by transaction_date desc\n",
    "#             limit 1;\"\"\"\n",
    "#             db_cursor.execute(query)\n",
    "#             if len(db_cursor.fetchall()) > 0:\n",
    "#                 balance_amount = db_cursor.fetchall()[0] + credite_amt\n",
    "#             else:\n",
    "            balance_amount = credite_amt\n",
    "\n",
    "#         INSERT TRANSACTION TO TRANSACTION TABLE\n",
    "        query = f\"\"\"insert into transactions_table (account_no, \n",
    "        transaction_date, withdrawal_amount, deposit_amount, balance_amount) \n",
    "        values ('{account_no}', '{transaction_date}', {0}, {credite_amt}, {balance_amount});\"\"\"\n",
    "        db_cursor.execute(query)\n",
    "        db_connection.commit()\n",
    "        \n",
    "        print(f\"INSERT TRANSACTION TO TRANSACTION TABLE : {db_cursor}\")\n",
    "            \n",
    "#             GO TO HOME PAGE ---X---X---\n",
    "\n",
    "    else:\n",
    "        print(f\"USER NAME IS ALREADY TAKEN. PLEASE TRY AGAIN...\")\n",
    "        \n",
    "def login_user():\n",
    "    print(f\"PLEASE ENTER USERNAME AND PASSWORD : \")\n",
    "    user_name = input(\"USER NAME : \")\n",
    "    user_password = input(\"PASSWORD : \")\n",
    "    \n",
    "    query = f\"\"\"select user_name from user_table \n",
    "    where user_name = '{user_name}' \n",
    "    and user_password = '{user_password}';\"\"\"\n",
    "    db_cursor.execute(query)\n",
    "    \n",
    "    if len(db_cursor.fetchall()) > 0:\n",
    "        query = f\"\"\"insert into user_table (user_name, user_password) \n",
    "        values ('{user_name}', '{user_password}');\"\"\"\n",
    "        db_cursor.execute(query)\n",
    "        db_connection.commit()\n",
    "        \n",
    "#         GO TO HOME PAGE ---X---X---\n",
    "\n",
    "    else:\n",
    "        print(f\"SORRY, WRONG USERNAME AND PASSWORD. PLEASE TRY AGAIN...\")\n",
    "        \n",
    "def login_register(choice):\n",
    "#     CHECK IF REGISTER\n",
    "    if choice == 1:\n",
    "        register_new_user()\n",
    "#     LOGIN USER\n",
    "    elif choice == 2:\n",
    "        login_user()\n",
    "    "
   ]
  },
  {
   "cell_type": "code",
   "execution_count": 21,
   "id": "b021fce8",
   "metadata": {},
   "outputs": [
    {
     "name": "stdout",
     "output_type": "stream",
     "text": [
      "----- WELLCOME TO MYSQL BANK -----\n",
      "1. REGISTER AS NEW USER. \n",
      "2. LOGIN AS USER. \n",
      "ENTER YOUR CHOICE PLEASE : 1\n",
      "PLEASE FILL THE REGISTATION DETAILS : \n",
      "USER NAME : shino\n",
      "PASSWORD : yagamoto\n",
      "PHONE NUMBER : 6547893210\n",
      "ADDRESS : vasai\n",
      "CREATE AMOUNT : 23\n",
      "ADD CUSTOMER DETAILS IN CUSTOMER DETAIL TABLE : CMySQLCursor: insert into customer_details_table (acco..\n",
      "INSERT TRANSACTION TO TRANSACTION TABLE : CMySQLCursor: insert into transactions_table (account_..\n",
      "1. REGISTER AS NEW USER. \n",
      "2. LOGIN AS USER. \n",
      "ENTER YOUR CHOICE PLEASE : 3\n"
     ]
    }
   ],
   "source": [
    "def main():\n",
    "    create_tables(db_connection, db_cursor)\n",
    "    print(f\"----- WELLCOME TO MYSQL BANK -----\")\n",
    "    while True:\n",
    "        print(f\"1. REGISTER AS NEW USER. \\n2. LOGIN AS USER. \")\n",
    "        try:\n",
    "            login_register_choice = int(input(\"ENTER YOUR CHOICE PLEASE : \"))\n",
    "            if login_register_choice == 3:\n",
    "                break\n",
    "            login_register(login_register_choice)\n",
    "        except Exception as e:\n",
    "            print(f\"[main] Exception : {e}\")\n",
    "            print(f\"PLEASE TRY AGAIN...\")\n",
    "\n",
    "main()"
   ]
  },
  {
   "cell_type": "code",
   "execution_count": null,
   "id": "5e6262d6",
   "metadata": {
    "scrolled": true
   },
   "outputs": [],
   "source": []
  },
  {
   "cell_type": "code",
   "execution_count": 109,
   "id": "c8a40c57",
   "metadata": {
    "scrolled": true
   },
   "outputs": [
    {
     "data": {
      "text/plain": [
       "36"
      ]
     },
     "execution_count": 109,
     "metadata": {},
     "output_type": "execute_result"
    }
   ],
   "source": [
    "len(str(uuid.uuid4()))\n",
    "\n",
    "# https://pypi.org/project/shortuuid/"
   ]
  },
  {
   "cell_type": "code",
   "execution_count": 108,
   "id": "b5fd87a2",
   "metadata": {},
   "outputs": [
    {
     "name": "stdout",
     "output_type": "stream",
     "text": [
      "Connected to <mysql.connector.connection_cext.CMySQLConnection object at 0x0000027AB6C2BBE0> : True \n"
     ]
    },
    {
     "ename": "MySQLInterfaceError",
     "evalue": "Commands out of sync; you can't run this command now",
     "output_type": "error",
     "traceback": [
      "\u001b[1;31m---------------------------------------------------------------------------\u001b[0m",
      "\u001b[1;31mMySQLInterfaceError\u001b[0m                       Traceback (most recent call last)",
      "Cell \u001b[1;32mIn[108], line 13\u001b[0m\n\u001b[0;32m      8\u001b[0m query \u001b[38;5;241m=\u001b[39m \u001b[38;5;124mf\u001b[39m\u001b[38;5;124m\"\"\"\u001b[39m\u001b[38;5;124mdrop table if exists customer_details_table;\u001b[39m\n\u001b[0;32m      9\u001b[0m \u001b[38;5;124mdrop table if exists transactions_table;\u001b[39m\n\u001b[0;32m     10\u001b[0m \u001b[38;5;124mdrop table if exists user_table;\u001b[39m\n\u001b[0;32m     11\u001b[0m \u001b[38;5;124m\"\"\"\u001b[39m\n\u001b[0;32m     12\u001b[0m db_cursor\u001b[38;5;241m.\u001b[39mexecute(query)\n\u001b[1;32m---> 13\u001b[0m \u001b[43mdb_connection\u001b[49m\u001b[38;5;241;43m.\u001b[39;49m\u001b[43mcommit\u001b[49m\u001b[43m(\u001b[49m\u001b[43m)\u001b[49m\n",
      "File \u001b[1;32m~\\AppData\\Local\\Programs\\Python\\Python310\\lib\\site-packages\\mysql\\connector\\connection_cext.py:511\u001b[0m, in \u001b[0;36mCMySQLConnection.commit\u001b[1;34m(self)\u001b[0m\n\u001b[0;32m    509\u001b[0m \u001b[38;5;28;01mif\u001b[39;00m \u001b[38;5;28mself\u001b[39m\u001b[38;5;241m.\u001b[39m_cmysql:\n\u001b[0;32m    510\u001b[0m     \u001b[38;5;28mself\u001b[39m\u001b[38;5;241m.\u001b[39mhandle_unread_result()\n\u001b[1;32m--> 511\u001b[0m     \u001b[38;5;28;43mself\u001b[39;49m\u001b[38;5;241;43m.\u001b[39;49m\u001b[43m_cmysql\u001b[49m\u001b[38;5;241;43m.\u001b[39;49m\u001b[43mcommit\u001b[49m\u001b[43m(\u001b[49m\u001b[43m)\u001b[49m\n",
      "\u001b[1;31mMySQLInterfaceError\u001b[0m: Commands out of sync; you can't run this command now"
     ]
    }
   ],
   "source": [
    "# db_connection = connection.connect(host='localhost',\n",
    "#                           user='root',\n",
    "#                           password='root', \n",
    "#                           database='bank_project')\n",
    "# db_cursor = db_connection.cursor()\n",
    "# print(f\"Connected to {db_connection} : {db_connection.is_connected()} \")\n",
    "\n",
    "# query = f\"\"\"drop table if exists customer_details_table;\n",
    "# drop table if exists transactions_table;\n",
    "# drop table if exists user_table;\n",
    "# \"\"\"\n",
    "# db_cursor.execute(query)\n",
    "# db_connection.commit()\n"
   ]
  },
  {
   "cell_type": "code",
   "execution_count": 2,
   "id": "da657db7",
   "metadata": {},
   "outputs": [
    {
     "name": "stdout",
     "output_type": "stream",
     "text": [
      "Collecting shortuuid"
     ]
    },
    {
     "name": "stderr",
     "output_type": "stream",
     "text": [
      "\n",
      "[notice] A new release of pip is available: 23.1.1 -> 23.2.1\n",
      "[notice] To update, run: python.exe -m pip install --upgrade pip\n"
     ]
    },
    {
     "name": "stdout",
     "output_type": "stream",
     "text": [
      "\n",
      "  Downloading shortuuid-1.0.11-py3-none-any.whl (10 kB)\n",
      "Installing collected packages: shortuuid\n",
      "Successfully installed shortuuid-1.0.11\n"
     ]
    }
   ],
   "source": [
    "# !pip install shortuuid"
   ]
  },
  {
   "cell_type": "code",
   "execution_count": 8,
   "id": "7b0fed43",
   "metadata": {},
   "outputs": [
    {
     "data": {
      "text/plain": [
       "'303127057992520530008490291122369036612'"
      ]
     },
     "execution_count": 8,
     "metadata": {},
     "output_type": "execute_result"
    }
   ],
   "source": [
    "import shortuuid \n",
    "su = shortuuid.ShortUUID(alphabet=\"0123456789\")\n",
    "su.uuid()\n",
    "# su.get_alphabet()"
   ]
  },
  {
   "cell_type": "code",
   "execution_count": null,
   "id": "da02763b",
   "metadata": {},
   "outputs": [],
   "source": [
    "# https://stackoverflow.com/questions/31309594/check-if-query-run-successfully-through-python#:~:text=echo%20%24%3F,1%20if%20its%20not%20successful.\n",
    "# https://www.datacamp.com/tutorial/tutorial-how-to-execute-sql-queries-in-r-and-python\n",
    "\n",
    "\n",
    "# ========================================================\n",
    "\n",
    "        if credite_amt > 0:\n",
    "#             GET BALANCE\n",
    "#             query = \"\"\"select balance_amount \n",
    "#             from transactions_table\n",
    "#             order by transaction_date desc\n",
    "#             limit 1;\"\"\"\n",
    "#             db_cursor.execute(query)\n",
    "#             if len(db_cursor.fetchall()) > 0:\n",
    "#                 balance_amount = db_cursor.fetchall()[0] + credite_amt\n",
    "#             else:\n",
    "            balance_amount = credite_amt\n"
   ]
  }
 ],
 "metadata": {
  "kernelspec": {
   "display_name": "Python 3 (ipykernel)",
   "language": "python",
   "name": "python3"
  },
  "language_info": {
   "codemirror_mode": {
    "name": "ipython",
    "version": 3
   },
   "file_extension": ".py",
   "mimetype": "text/x-python",
   "name": "python",
   "nbconvert_exporter": "python",
   "pygments_lexer": "ipython3",
   "version": "3.10.10"
  }
 },
 "nbformat": 4,
 "nbformat_minor": 5
}
